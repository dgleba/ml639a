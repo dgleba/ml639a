{
 "cells": [
  {
   "cell_type": "markdown",
   "metadata": {},
   "source": [
    "# **FINE TUNING FASTER RCNN USING PYTORCH**\n",
    "\n",
    "ir4 tester \n",
    "\n",
    "In this Notebook we can fine tune a Faster RCNN on the images dataset. If you want to brush up about what is Faster RCNN, [here's](https://medium.com/@whatdhack/a-deeper-look-at-how-faster-rcnn-works-84081284e1cd) an awesome medium article on the same.\n",
    "\n",
    "Ref: inspired by the Pytorch docs tutorial [here](https://pytorch.org/tutorials/intermediate/torchvision_tutorial.html)\n"
   ]
  },
  {
   "cell_type": "markdown",
   "metadata": {},
   "source": [
    "## Installs and Imports"
   ]
  },
  {
   "cell_type": "markdown",
   "metadata": {},
   "source": [
    "Since a lot of code for object detection is same and has to be rewritten by everyone, torchvision contributers have provided us with helper codes for training, evaluation and transformations.\n",
    "\n",
    "Let's clone the repo and copy the libraries into working directory"
   ]
  },
  {
   "cell_type": "code",
   "execution_count": 4,
   "metadata": {
    "tags": []
   },
   "outputs": [
    {
     "name": "stdout",
     "output_type": "stream",
     "text": [
      "/notebooks/ml639a/639d\n"
     ]
    },
    {
     "name": "stderr",
     "output_type": "stream",
     "text": [
      "fatal: destination path 'vision' already exists and is not an empty directory.\n"
     ]
    },
    {
     "name": "stdout",
     "output_type": "stream",
     "text": [
      "/notebooks/ml639a/639d\n"
     ]
    }
   ],
   "source": [
    "%%bash\n",
    "pwd\n",
    "# Download TorchVision repo to use some files from references/detection\n",
    "cd /notebooks\n",
    "mkdir -p pytorchvision\n",
    "cd pytorchvision\n",
    "git clone https://github.com/pytorch/vision.git\n",
    "##!git checkout v0.3.0\n",
    "cp vision/references/detection/utils.py ./\n",
    "cp vision/references/detection/transforms.py ./\n",
    "cp vision/references/detection/coco_eval.py ./\n",
    "cp vision/references/detection/engine.py ./\n",
    "cp vision/references/detection/coco_utils.py ./\n",
    "cd /notebooks/ml639a/639d/\n",
    "pwd"
   ]
  },
  {
   "cell_type": "code",
   "execution_count": 8,
   "metadata": {
    "collapsed": true,
    "jupyter": {
     "outputs_hidden": true
    },
    "tags": []
   },
   "outputs": [
    {
     "name": "stdout",
     "output_type": "stream",
     "text": [
      "Reading package lists...\n",
      "Building dependency tree...\n",
      "Reading state information...\n",
      "libgl1-mesa-dev is already the newest version (20.0.8-0ubuntu1~18.04.1).\n",
      "0 upgraded, 0 newly installed, 0 to remove and 1 not upgraded.\n",
      "Requirement already satisfied: opencv-python-headless in /opt/conda/lib/python3.7/site-packages (4.5.4.58)\n",
      "Collecting opencv-python\n",
      "  Downloading opencv_python-4.6.0.66-cp36-abi3-manylinux_2_17_x86_64.manylinux2014_x86_64.whl (60.9 MB)\n",
      "Requirement already satisfied: numpy>=1.14.5 in /opt/conda/lib/python3.7/site-packages (from opencv-python) (1.21.2)\n",
      "Installing collected packages: opencv-python\n",
      "Successfully installed opencv-python-4.6.0.66\n"
     ]
    }
   ],
   "source": [
    "%%bash\n",
    "pwd\n",
    "# apt update\n",
    "# DEBIAN_FRONTEND=noninteractive apt-get install -y python3-opencv\n",
    "# #tz prompt. dpkg fix...\n",
    "# don't use gui version. pip install opencv-python\n",
    "# use headless\n",
    "apt-get install -y libgl1-mesa-dev # libgl1-mesa-glx\n",
    "# pip uninstall opencv-python -y\n",
    "pip install opencv-python-headless opencv-python\n",
    "# #pip install cv2"
   ]
  },
  {
   "cell_type": "code",
   "execution_count": 13,
   "metadata": {
    "collapsed": true,
    "jupyter": {
     "outputs_hidden": true
    },
    "scrolled": true,
    "tags": []
   },
   "outputs": [
    {
     "name": "stdout",
     "output_type": "stream",
     "text": [
      "Requirement already satisfied: pycocotools in /opt/conda/lib/python3.7/site-packages (2.0.4)\n",
      "Requirement already satisfied: albumentations in /opt/conda/lib/python3.7/site-packages (1.1.0)\n",
      "Requirement already satisfied: opencv-python-headless>=4.1.1 in /opt/conda/lib/python3.7/site-packages (from albumentations) (4.5.4.58)\n",
      "Requirement already satisfied: qudida>=0.0.4 in /opt/conda/lib/python3.7/site-packages (from albumentations) (0.0.4)\n",
      "Requirement already satisfied: numpy>=1.11.1 in /opt/conda/lib/python3.7/site-packages (from albumentations) (1.21.2)\n",
      "Requirement already satisfied: scipy in /opt/conda/lib/python3.7/site-packages (from albumentations) (1.7.2)\n",
      "Requirement already satisfied: scikit-image>=0.16.1 in /opt/conda/lib/python3.7/site-packages (from albumentations) (0.18.3)\n",
      "Requirement already satisfied: PyYAML in /opt/conda/lib/python3.7/site-packages (from albumentations) (5.4.1)\n",
      "Requirement already satisfied: scikit-learn>=0.19.1 in /opt/conda/lib/python3.7/site-packages (from qudida>=0.0.4->albumentations) (1.0.1)\n",
      "Requirement already satisfied: typing-extensions in /opt/conda/lib/python3.7/site-packages (from qudida>=0.0.4->albumentations) (3.10.0.2)\n",
      "Requirement already satisfied: imageio>=2.3.0 in /opt/conda/lib/python3.7/site-packages (from scikit-image>=0.16.1->albumentations) (2.10.3)\n",
      "Requirement already satisfied: networkx>=2.0 in /opt/conda/lib/python3.7/site-packages (from scikit-image>=0.16.1->albumentations) (2.6.3)\n",
      "Requirement already satisfied: PyWavelets>=1.1.1 in /opt/conda/lib/python3.7/site-packages (from scikit-image>=0.16.1->albumentations) (1.2.0)\n",
      "Requirement already satisfied: matplotlib!=3.0.0,>=2.0.0 in /opt/conda/lib/python3.7/site-packages (from scikit-image>=0.16.1->albumentations) (3.4.3)\n",
      "Requirement already satisfied: tifffile>=2019.7.26 in /opt/conda/lib/python3.7/site-packages (from scikit-image>=0.16.1->albumentations) (2021.11.2)\n",
      "Requirement already satisfied: pillow!=7.1.0,!=7.1.1,>=4.3.0 in /opt/conda/lib/python3.7/site-packages (from scikit-image>=0.16.1->albumentations) (8.4.0)\n",
      "Requirement already satisfied: python-dateutil>=2.7 in /opt/conda/lib/python3.7/site-packages (from matplotlib!=3.0.0,>=2.0.0->scikit-image>=0.16.1->albumentations) (2.8.2)\n",
      "Requirement already satisfied: kiwisolver>=1.0.1 in /opt/conda/lib/python3.7/site-packages (from matplotlib!=3.0.0,>=2.0.0->scikit-image>=0.16.1->albumentations) (1.3.2)\n",
      "Requirement already satisfied: pyparsing>=2.2.1 in /opt/conda/lib/python3.7/site-packages (from matplotlib!=3.0.0,>=2.0.0->scikit-image>=0.16.1->albumentations) (2.4.7)\n",
      "Requirement already satisfied: cycler>=0.10 in /opt/conda/lib/python3.7/site-packages (from matplotlib!=3.0.0,>=2.0.0->scikit-image>=0.16.1->albumentations) (0.11.0)\n",
      "Requirement already satisfied: six>=1.5 in /opt/conda/lib/python3.7/site-packages (from python-dateutil>=2.7->matplotlib!=3.0.0,>=2.0.0->scikit-image>=0.16.1->albumentations) (1.16.0)\n",
      "Requirement already satisfied: joblib>=0.11 in /opt/conda/lib/python3.7/site-packages (from scikit-learn>=0.19.1->qudida>=0.0.4->albumentations) (1.1.0)\n",
      "Requirement already satisfied: threadpoolctl>=2.0.0 in /opt/conda/lib/python3.7/site-packages (from scikit-learn>=0.19.1->qudida>=0.0.4->albumentations) (3.0.0)\n",
      "Note: you may need to restart the kernel to use updated packages.\n"
     ]
    }
   ],
   "source": [
    "#pip install pycocotools "
   ]
  },
  {
   "cell_type": "code",
   "execution_count": 3,
   "metadata": {
    "collapsed": true,
    "jupyter": {
     "outputs_hidden": true
    },
    "scrolled": true,
    "tags": []
   },
   "outputs": [
    {
     "name": "stdout",
     "output_type": "stream",
     "text": [
      "Looking in indexes: https://pypi.org/simple, https://pypi.ngc.nvidia.com\n",
      "Collecting albumentations\n",
      "  Downloading albumentations-1.2.0-py3-none-any.whl (113 kB)\n",
      "\u001b[K     |████████████████████████████████| 113 kB 13.5 MB/s eta 0:00:01\n",
      "\u001b[?25hRequirement already satisfied: numpy>=1.11.1 in /opt/conda/lib/python3.8/site-packages (from albumentations) (1.22.2)\n",
      "Requirement already satisfied: scipy in /opt/conda/lib/python3.8/site-packages (from albumentations) (1.6.3)\n",
      "Collecting qudida>=0.0.4\n",
      "  Downloading qudida-0.0.4-py3-none-any.whl (3.5 kB)\n",
      "Requirement already satisfied: PyYAML in /opt/conda/lib/python3.8/site-packages (from albumentations) (5.4.1)\n",
      "Collecting opencv-python-headless>=4.1.1\n",
      "  Downloading opencv_python_headless-4.6.0.66-cp36-abi3-manylinux_2_17_x86_64.manylinux2014_x86_64.whl (48.3 MB)\n",
      "\u001b[K     |████████████████████████████████| 48.3 MB 24.5 MB/s eta 0:00:01\n",
      "\u001b[?25hCollecting scikit-image<0.19,>=0.16.1\n",
      "  Downloading scikit_image-0.18.3-cp38-cp38-manylinux_2_5_x86_64.manylinux1_x86_64.whl (30.2 MB)\n",
      "\u001b[K     |████████████████████████████████| 30.2 MB 5.4 MB/s eta 0:00:011\n",
      "\u001b[?25hRequirement already satisfied: scikit-learn>=0.19.1 in /opt/conda/lib/python3.8/site-packages (from qudida>=0.0.4->albumentations) (0.24.0)\n",
      "Requirement already satisfied: typing-extensions in /opt/conda/lib/python3.8/site-packages (from qudida>=0.0.4->albumentations) (4.0.1)\n",
      "Collecting tifffile>=2019.7.26\n",
      "  Downloading tifffile-2022.5.4-py3-none-any.whl (195 kB)\n",
      "\u001b[K     |████████████████████████████████| 195 kB 31.8 MB/s eta 0:00:01\n",
      "\u001b[?25hCollecting PyWavelets>=1.1.1\n",
      "  Downloading PyWavelets-1.3.0-cp38-cp38-manylinux_2_17_x86_64.manylinux2014_x86_64.whl (6.9 MB)\n",
      "\u001b[K     |████████████████████████████████| 6.9 MB 29.3 MB/s eta 0:00:01\n",
      "\u001b[?25hRequirement already satisfied: pillow!=7.1.0,!=7.1.1,>=4.3.0 in /opt/conda/lib/python3.8/site-packages (from scikit-image<0.19,>=0.16.1->albumentations) (9.0.0)\n",
      "Requirement already satisfied: networkx>=2.0 in /opt/conda/lib/python3.8/site-packages (from scikit-image<0.19,>=0.16.1->albumentations) (2.6.3)\n",
      "Collecting imageio>=2.3.0\n",
      "  Downloading imageio-2.19.3-py3-none-any.whl (3.4 MB)\n",
      "\u001b[K     |████████████████████████████████| 3.4 MB 33.3 MB/s eta 0:00:01\n",
      "\u001b[?25hRequirement already satisfied: matplotlib!=3.0.0,>=2.0.0 in /opt/conda/lib/python3.8/site-packages (from scikit-image<0.19,>=0.16.1->albumentations) (3.5.1)\n",
      "Requirement already satisfied: packaging>=20.0 in /opt/conda/lib/python3.8/site-packages (from matplotlib!=3.0.0,>=2.0.0->scikit-image<0.19,>=0.16.1->albumentations) (21.3)\n",
      "Requirement already satisfied: pyparsing>=2.2.1 in /opt/conda/lib/python3.8/site-packages (from matplotlib!=3.0.0,>=2.0.0->scikit-image<0.19,>=0.16.1->albumentations) (3.0.7)\n",
      "Requirement already satisfied: fonttools>=4.22.0 in /opt/conda/lib/python3.8/site-packages (from matplotlib!=3.0.0,>=2.0.0->scikit-image<0.19,>=0.16.1->albumentations) (4.29.1)\n",
      "Requirement already satisfied: kiwisolver>=1.0.1 in /opt/conda/lib/python3.8/site-packages (from matplotlib!=3.0.0,>=2.0.0->scikit-image<0.19,>=0.16.1->albumentations) (1.3.2)\n",
      "Requirement already satisfied: cycler>=0.10 in /opt/conda/lib/python3.8/site-packages (from matplotlib!=3.0.0,>=2.0.0->scikit-image<0.19,>=0.16.1->albumentations) (0.11.0)\n",
      "Requirement already satisfied: python-dateutil>=2.7 in /opt/conda/lib/python3.8/site-packages (from matplotlib!=3.0.0,>=2.0.0->scikit-image<0.19,>=0.16.1->albumentations) (2.8.2)\n",
      "Requirement already satisfied: six>=1.5 in /opt/conda/lib/python3.8/site-packages (from python-dateutil>=2.7->matplotlib!=3.0.0,>=2.0.0->scikit-image<0.19,>=0.16.1->albumentations) (1.16.0)\n",
      "Requirement already satisfied: threadpoolctl>=2.0.0 in /opt/conda/lib/python3.8/site-packages (from scikit-learn>=0.19.1->qudida>=0.0.4->albumentations) (3.1.0)\n",
      "Requirement already satisfied: joblib>=0.11 in /opt/conda/lib/python3.8/site-packages (from scikit-learn>=0.19.1->qudida>=0.0.4->albumentations) (1.1.0)\n",
      "Installing collected packages: tifffile, PyWavelets, opencv-python-headless, imageio, scikit-image, qudida, albumentations\n",
      "Successfully installed PyWavelets-1.3.0 albumentations-1.2.0 imageio-2.19.3 opencv-python-headless-4.6.0.66 qudida-0.0.4 scikit-image-0.18.3 tifffile-2022.5.4\n",
      "\u001b[33mWARNING: Running pip as the 'root' user can result in broken permissions and conflicting behaviour with the system package manager. It is recommended to use a virtual environment instead: https://pip.pypa.io/warnings/venv\u001b[0m\n",
      "Note: you may need to restart the kernel to use updated packages.\n"
     ]
    }
   ],
   "source": [
    "pip install  albumentations"
   ]
  },
  {
   "cell_type": "code",
   "execution_count": 4,
   "metadata": {
    "collapsed": true,
    "jupyter": {
     "outputs_hidden": true
    },
    "tags": []
   },
   "outputs": [
    {
     "name": "stdout",
     "output_type": "stream",
     "text": [
      "Package                 Version\n",
      "----------------------- ---------\n",
      "absl-py                 1.0.0\n",
      "albumentations          1.1.0\n",
      "argcomplete             1.12.3\n",
      "argon2-cffi             21.1.0\n",
      "attrs                   21.2.0\n",
      "backcall                0.2.0\n",
      "beautifulsoup4          4.10.0\n",
      "bleach                  4.1.0\n",
      "blis                    0.7.5\n",
      "boto3                   1.20.4\n",
      "botocore                1.23.4\n",
      "bravado                 11.0.3\n",
      "bravado-core            5.17.0\n",
      "brotlipy                0.7.0\n",
      "cachetools              4.2.4\n",
      "captum                  0.4.1\n",
      "catalogue               2.0.6\n",
      "catalyst                21.10\n",
      "certifi                 2021.10.8\n",
      "cffi                    1.14.6\n",
      "chardet                 4.0.0\n",
      "click                   8.0.3\n",
      "conda                   4.10.3\n",
      "conda-build             3.21.5\n",
      "conda-package-handling  1.7.3\n",
      "configparser            5.1.0\n",
      "cryptography            3.4.8\n",
      "cycler                  0.11.0\n",
      "cymem                   2.0.6\n",
      "debugpy                 1.5.1\n",
      "decorator               5.1.0\n",
      "defusedxml              0.7.1\n",
      "dnspython               2.1.0\n",
      "docker-pycreds          0.4.0\n",
      "entrypoints             0.3\n",
      "fastai                  2.5.4\n",
      "fastcore                1.3.28\n",
      "fastdownload            0.0.5\n",
      "fastprogress            1.0.0\n",
      "fastrelease             0.1.12\n",
      "filelock                3.0.12\n",
      "future                  0.18.2\n",
      "ghapi                   0.1.19\n",
      "gitdb                   4.0.9\n",
      "GitPython               3.1.24\n",
      "glob2                   0.7\n",
      "google-auth             2.3.3\n",
      "google-auth-oauthlib    0.4.6\n",
      "graphviz                0.18\n",
      "grpcio                  1.41.1\n",
      "hydra-slayer            0.3.0\n",
      "idna                    2.10\n",
      "imageio                 2.10.3\n",
      "importlib-metadata      4.8.2\n",
      "ipykernel               6.5.0\n",
      "ipython                 7.27.0\n",
      "ipython-genutils        0.2.0\n",
      "ipywidgets              7.6.5\n",
      "jedi                    0.18.0\n",
      "Jinja2                  2.11.3\n",
      "jmespath                0.10.0\n",
      "joblib                  1.1.0\n",
      "jsonpointer             2.2\n",
      "jsonref                 0.2\n",
      "jsonschema              3.2.0\n",
      "jupyter                 1.0.0\n",
      "jupyter-client          6.1.12\n",
      "jupyter-console         6.4.0\n",
      "jupyter-core            4.9.1\n",
      "jupyterlab-widgets      1.0.2\n",
      "kiwisolver              1.3.2\n",
      "kornia                  0.6.1\n",
      "langcodes               3.3.0\n",
      "libarchive-c            2.9\n",
      "Markdown                3.3.4\n",
      "MarkupSafe              2.0.1\n",
      "matplotlib              3.4.3\n",
      "matplotlib-inline       0.1.2\n",
      "mistune                 0.8.4\n",
      "mkl-fft                 1.3.1\n",
      "mkl-random              1.2.2\n",
      "mkl-service             2.4.0\n",
      "monotonic               1.6\n",
      "msgpack                 1.0.2\n",
      "murmurhash              1.0.6\n",
      "nbconvert               5.6.1\n",
      "nbdev                   1.1.23\n",
      "nbformat                5.1.3\n",
      "neptune-client          0.13.1\n",
      "networkx                2.6.3\n",
      "notebook                6.4.5\n",
      "numpy                   1.21.2\n",
      "oauthlib                3.1.1\n",
      "olefile                 0.46\n",
      "opencv-python           4.5.4.58\n",
      "opencv-python-headless  4.5.4.58\n",
      "packaging               21.2\n",
      "pandas                  1.3.4\n",
      "pandocfilters           1.5.0\n",
      "parso                   0.8.2\n",
      "pathtools               0.1.2\n",
      "pathy                   0.6.1\n",
      "pexpect                 4.8.0\n",
      "pickleshare             0.7.5\n",
      "Pillow                  8.4.0\n",
      "pip                     21.0.1\n",
      "pkginfo                 1.7.1\n",
      "preshed                 3.0.6\n",
      "prometheus-client       0.12.0\n",
      "promise                 2.3\n",
      "prompt-toolkit          3.0.20\n",
      "protobuf                3.19.1\n",
      "psutil                  5.8.0\n",
      "ptyprocess              0.7.0\n",
      "pyarrow                 6.0.0\n",
      "pyasn1                  0.4.8\n",
      "pyasn1-modules          0.2.8\n",
      "pycocotools             2.0.4\n",
      "pycosat                 0.6.3\n",
      "pycparser               2.20\n",
      "pydantic                1.8.2\n",
      "pydicom                 2.2.2\n",
      "Pygments                2.10.0\n",
      "PyJWT                   2.3.0\n",
      "pyOpenSSL               20.0.1\n",
      "pyparsing               2.4.7\n",
      "pyrsistent              0.18.0\n",
      "PySocks                 1.7.1\n",
      "python-dateutil         2.8.2\n",
      "python-etcd             0.4.5\n",
      "pytz                    2021.3\n",
      "PyWavelets              1.2.0\n",
      "PyYAML                  5.4.1\n",
      "pyzmq                   22.3.0\n",
      "qtconsole               5.2.0\n",
      "QtPy                    1.11.2\n",
      "qudida                  0.0.4\n",
      "requests                2.25.1\n",
      "requests-oauthlib       1.3.0\n",
      "rfc3987                 1.3.8\n",
      "rsa                     4.7.2\n",
      "ruamel-yaml-conda       0.15.100\n",
      "s3transfer              0.5.0\n",
      "scikit-image            0.18.3\n",
      "scikit-learn            1.0.1\n",
      "scipy                   1.7.2\n",
      "Send2Trash              1.8.0\n",
      "sentencepiece           0.1.86\n",
      "sentry-sdk              1.4.3\n",
      "setuptools              58.0.4\n",
      "shortuuid               1.0.8\n",
      "simplejson              3.17.5\n",
      "six                     1.16.0\n",
      "smart-open              5.2.1\n",
      "smmap                   5.0.0\n",
      "soupsieve               2.2.1\n",
      "spacy                   3.2.0\n",
      "spacy-legacy            3.0.8\n",
      "spacy-loggers           1.0.1\n",
      "srsly                   2.4.2\n",
      "strict-rfc3339          0.7\n",
      "subprocess32            3.5.4\n",
      "swagger-spec-validator  2.7.4\n",
      "tensorboard             2.7.0\n",
      "tensorboard-data-server 0.6.1\n",
      "tensorboard-plugin-wit  1.8.0\n",
      "tensorboardX            2.2\n",
      "termcolor               1.1.0\n",
      "terminado               0.12.1\n",
      "testpath                0.5.0\n",
      "thinc                   8.0.13\n",
      "threadpoolctl           3.0.0\n",
      "tifffile                2021.11.2\n",
      "torch                   1.10.0\n",
      "torchelastic            0.2.0\n",
      "torchtext               0.11.0\n",
      "torchvision             0.11.0\n",
      "tornado                 6.1\n",
      "tqdm                    4.61.2\n",
      "traitlets               5.1.0\n",
      "typer                   0.4.0\n",
      "typing-extensions       3.10.0.2\n",
      "urllib3                 1.26.6\n",
      "wandb                   0.12.6\n",
      "wasabi                  0.8.2\n",
      "wcwidth                 0.2.5\n",
      "webcolors               1.11.1\n",
      "webencodings            0.5.1\n",
      "websocket-client        1.2.1\n",
      "Werkzeug                2.0.2\n",
      "wheel                   0.36.2\n",
      "widgetsnbextension      3.5.2\n",
      "yaspin                  2.1.0\n",
      "zipp                    3.6.0\n",
      "Note: you may need to restart the kernel to use updated packages.\n"
     ]
    }
   ],
   "source": [
    "pip list"
   ]
  },
  {
   "cell_type": "code",
   "execution_count": 5,
   "metadata": {
    "collapsed": true,
    "jupyter": {
     "outputs_hidden": true
    },
    "tags": []
   },
   "outputs": [
    {
     "name": "stdout",
     "output_type": "stream",
     "text": [
      "# packages in environment at /opt/conda:\n",
      "#\n",
      "# Name                    Version                   Build  Channel\n",
      "_libgcc_mutex             0.1                        main  \n",
      "_openmp_mutex             4.5                       1_gnu  \n",
      "absl-py                   1.0.0                    pypi_0    pypi\n",
      "albumentations            1.1.0                    pypi_0    pypi\n",
      "argcomplete               1.12.3                   pypi_0    pypi\n",
      "argon2-cffi               21.1.0                   pypi_0    pypi\n",
      "attrs                     21.2.0                   pypi_0    pypi\n",
      "backcall                  0.2.0              pyhd3eb1b0_0  \n",
      "beautifulsoup4            4.10.0             pyh06a4308_0  \n",
      "blas                      1.0                         mkl  \n",
      "bleach                    4.1.0                    pypi_0    pypi\n",
      "blis                      0.7.5                    pypi_0    pypi\n",
      "boto3                     1.20.4                   pypi_0    pypi\n",
      "botocore                  1.23.4                   pypi_0    pypi\n",
      "bravado                   11.0.3                   pypi_0    pypi\n",
      "bravado-core              5.17.0                   pypi_0    pypi\n",
      "brotlipy                  0.7.0           py37h27cfd23_1003  \n",
      "bzip2                     1.0.8                h7b6447c_0  \n",
      "ca-certificates           2021.9.30            h06a4308_1  \n",
      "cachetools                4.2.4                    pypi_0    pypi\n",
      "captum                    0.4.1                    pypi_0    pypi\n",
      "catalogue                 2.0.6                    pypi_0    pypi\n",
      "catalyst                  21.10                    pypi_0    pypi\n",
      "certifi                   2021.10.8        py37h06a4308_0  \n",
      "cffi                      1.14.6           py37h400218f_0  \n",
      "chardet                   4.0.0           py37h06a4308_1003  \n",
      "click                     8.0.3                    pypi_0    pypi\n",
      "conda                     4.10.3           py37h06a4308_0  \n",
      "conda-build               3.21.5           py37h06a4308_0  \n",
      "conda-package-handling    1.7.3            py37h27cfd23_1  \n",
      "configparser              5.1.0                    pypi_0    pypi\n",
      "cryptography              3.4.8            py37hd23ed53_0  \n",
      "cudatoolkit               11.3.1               ha36c431_9    nvidia\n",
      "cycler                    0.11.0                   pypi_0    pypi\n",
      "cymem                     2.0.6                    pypi_0    pypi\n",
      "debugpy                   1.5.1                    pypi_0    pypi\n",
      "decorator                 5.1.0              pyhd3eb1b0_0  \n",
      "defusedxml                0.7.1                    pypi_0    pypi\n",
      "dnspython                 2.1.0                    pypi_0    pypi\n",
      "docker-pycreds            0.4.0                    pypi_0    pypi\n",
      "entrypoints               0.3                      pypi_0    pypi\n",
      "fastai                    2.5.4                    pypi_0    pypi\n",
      "fastcore                  1.3.28                   pypi_0    pypi\n",
      "fastdownload              0.0.5                    pypi_0    pypi\n",
      "fastprogress              1.0.0                    pypi_0    pypi\n",
      "fastrelease               0.1.12                   pypi_0    pypi\n",
      "ffmpeg                    4.3                  hf484d3e_0    pytorch\n",
      "filelock                  3.0.12             pyhd3eb1b0_1  \n",
      "freetype                  2.10.4               h5ab3b9f_0  \n",
      "future                    0.18.2                   pypi_0    pypi\n",
      "ghapi                     0.1.19                   pypi_0    pypi\n",
      "giflib                    5.2.1                h7b6447c_0  \n",
      "gitdb                     4.0.9                    pypi_0    pypi\n",
      "gitpython                 3.1.24                   pypi_0    pypi\n",
      "glob2                     0.7                pyhd3eb1b0_0  \n",
      "gmp                       6.2.1                h2531618_2  \n",
      "gnutls                    3.6.15               he1e5248_0  \n",
      "google-auth               2.3.3                    pypi_0    pypi\n",
      "google-auth-oauthlib      0.4.6                    pypi_0    pypi\n",
      "grpcio                    1.41.1                   pypi_0    pypi\n",
      "hydra-slayer              0.3.0                    pypi_0    pypi\n",
      "icu                       58.2                 he6710b0_3  \n",
      "idna                      2.10               pyhd3eb1b0_0  \n",
      "imageio                   2.10.3                   pypi_0    pypi\n",
      "importlib-metadata        4.8.2                    pypi_0    pypi\n",
      "intel-openmp              2021.3.0          h06a4308_3350  \n",
      "ipykernel                 6.5.0                    pypi_0    pypi\n",
      "ipython                   7.27.0           py37hb070fc8_0  \n",
      "ipython-genutils          0.2.0                    pypi_0    pypi\n",
      "ipywidgets                7.6.5                    pypi_0    pypi\n",
      "jedi                      0.18.0           py37h06a4308_1  \n",
      "jinja2                    2.11.3             pyhd3eb1b0_0  \n",
      "jmespath                  0.10.0                   pypi_0    pypi\n",
      "joblib                    1.1.0                    pypi_0    pypi\n",
      "jpeg                      9d                   h7f8727e_0  \n",
      "jsonpointer               2.2                      pypi_0    pypi\n",
      "jsonref                   0.2                      pypi_0    pypi\n",
      "jsonschema                3.2.0                    pypi_0    pypi\n",
      "jupyter                   1.0.0                    pypi_0    pypi\n",
      "jupyter-client            6.1.12                   pypi_0    pypi\n",
      "jupyter-console           6.4.0                    pypi_0    pypi\n",
      "jupyter-core              4.9.1                    pypi_0    pypi\n",
      "jupyterlab-widgets        1.0.2                    pypi_0    pypi\n",
      "kiwisolver                1.3.2                    pypi_0    pypi\n",
      "kornia                    0.6.1                    pypi_0    pypi\n",
      "lame                      3.100                h7b6447c_0  \n",
      "langcodes                 3.3.0                    pypi_0    pypi\n",
      "lcms2                     2.12                 h3be6417_0  \n",
      "ld_impl_linux-64          2.35.1               h7274673_9  \n",
      "libarchive                3.4.2                h62408e4_0  \n",
      "libffi                    3.3                  he6710b0_2  \n",
      "libgcc-ng                 9.3.0               h5101ec6_17  \n",
      "libgomp                   9.3.0               h5101ec6_17  \n",
      "libiconv                  1.15                 h63c8f33_5  \n",
      "libidn2                   2.3.2                h7f8727e_0  \n",
      "liblief                   0.10.1               he6710b0_0  \n",
      "libpng                    1.6.37               hbc83047_0  \n",
      "libstdcxx-ng              9.3.0               hd4cf53a_17  \n",
      "libtasn1                  4.16.0               h27cfd23_0  \n",
      "libtiff                   4.2.0                h85742a9_0  \n",
      "libunistring              0.9.10               h27cfd23_0  \n",
      "libuv                     1.40.0               h7b6447c_0  \n",
      "libwebp                   1.2.0                h89dd481_0  \n",
      "libwebp-base              1.2.0                h27cfd23_0  \n",
      "libxml2                   2.9.12               h03d6c58_0  \n",
      "lz4-c                     1.9.3                h295c915_1  \n",
      "markdown                  3.3.4                    pypi_0    pypi\n",
      "markupsafe                2.0.1            py37h27cfd23_0  \n",
      "matplotlib                3.4.3                    pypi_0    pypi\n",
      "matplotlib-inline         0.1.2              pyhd3eb1b0_2  \n",
      "mistune                   0.8.4                    pypi_0    pypi\n",
      "mkl                       2021.3.0           h06a4308_520  \n",
      "mkl-service               2.4.0            py37h7f8727e_0  \n",
      "mkl_fft                   1.3.1            py37hd3c417c_0  \n",
      "mkl_random                1.2.2            py37h51133e4_0  \n",
      "monotonic                 1.6                      pypi_0    pypi\n",
      "msgpack                   1.0.2                    pypi_0    pypi\n",
      "murmurhash                1.0.6                    pypi_0    pypi\n",
      "nbconvert                 5.6.1                    pypi_0    pypi\n",
      "nbdev                     1.1.23                   pypi_0    pypi\n",
      "nbformat                  5.1.3                    pypi_0    pypi\n",
      "ncurses                   6.2                  he6710b0_1  \n",
      "neptune-client            0.13.1                   pypi_0    pypi\n",
      "nettle                    3.7.3                hbbd107a_1  \n",
      "networkx                  2.6.3                    pypi_0    pypi\n",
      "notebook                  6.4.5                    pypi_0    pypi\n",
      "numpy                     1.21.2           py37h20f2e39_0  \n",
      "numpy-base                1.21.2           py37h79a1101_0  \n",
      "oauthlib                  3.1.1                    pypi_0    pypi\n",
      "olefile                   0.46                     py37_0  \n",
      "opencv-python             4.5.4.58                 pypi_0    pypi\n",
      "opencv-python-headless    4.5.4.58                 pypi_0    pypi\n",
      "openh264                  2.1.0                hd408876_0  \n",
      "openssl                   1.1.1l               h7f8727e_0  \n",
      "packaging                 21.2                     pypi_0    pypi\n",
      "pandas                    1.3.4                    pypi_0    pypi\n",
      "pandocfilters             1.5.0                    pypi_0    pypi\n",
      "parso                     0.8.2              pyhd3eb1b0_0  \n",
      "patchelf                  0.13                 h295c915_0  \n",
      "pathtools                 0.1.2                    pypi_0    pypi\n",
      "pathy                     0.6.1                    pypi_0    pypi\n",
      "pexpect                   4.8.0              pyhd3eb1b0_3  \n",
      "pickleshare               0.7.5           pyhd3eb1b0_1003  \n",
      "pillow                    8.4.0            py37h5aabda8_0  \n",
      "pip                       21.0.1           py37h06a4308_0  \n",
      "pkginfo                   1.7.1            py37h06a4308_0  \n",
      "preshed                   3.0.6                    pypi_0    pypi\n",
      "prometheus-client         0.12.0                   pypi_0    pypi\n",
      "promise                   2.3                      pypi_0    pypi\n",
      "prompt-toolkit            3.0.20             pyhd3eb1b0_0  \n",
      "protobuf                  3.19.1                   pypi_0    pypi\n",
      "psutil                    5.8.0            py37h27cfd23_1  \n",
      "ptyprocess                0.7.0              pyhd3eb1b0_2  \n",
      "py-lief                   0.10.1           py37h403a769_0  \n",
      "pyarrow                   6.0.0                    pypi_0    pypi\n",
      "pyasn1                    0.4.8                    pypi_0    pypi\n",
      "pyasn1-modules            0.2.8                    pypi_0    pypi\n",
      "pycocotools               2.0.4                    pypi_0    pypi\n",
      "pycosat                   0.6.3            py37h27cfd23_0  \n",
      "pycparser                 2.20                       py_2  \n",
      "pydantic                  1.8.2                    pypi_0    pypi\n",
      "pydicom                   2.2.2                    pypi_0    pypi\n",
      "pygments                  2.10.0             pyhd3eb1b0_0  \n",
      "pyjwt                     2.3.0                    pypi_0    pypi\n",
      "pyopenssl                 20.0.1             pyhd3eb1b0_1  \n",
      "pyparsing                 2.4.7                    pypi_0    pypi\n",
      "pyrsistent                0.18.0                   pypi_0    pypi\n",
      "pysocks                   1.7.1                    py37_1  \n",
      "python                    3.7.11               h12debd9_0  \n",
      "python-dateutil           2.8.2                    pypi_0    pypi\n",
      "python-etcd               0.4.5                    pypi_0    pypi\n",
      "python-graphviz           0.18                     pypi_0    pypi\n",
      "python-libarchive-c       2.9                pyhd3eb1b0_1  \n",
      "pytorch                   1.10.0          py3.7_cuda11.3_cudnn8.2.0_0    pytorch\n",
      "pytorch-mutex             1.0                        cuda    pytorch\n",
      "pytz                      2021.3             pyhd3eb1b0_0  \n",
      "pywavelets                1.2.0                    pypi_0    pypi\n",
      "pyyaml                    5.4.1            py37h27cfd23_1  \n",
      "pyzmq                     22.3.0                   pypi_0    pypi\n",
      "qtconsole                 5.2.0                    pypi_0    pypi\n",
      "qtpy                      1.11.2                   pypi_0    pypi\n",
      "qudida                    0.0.4                    pypi_0    pypi\n",
      "readline                  8.1                  h27cfd23_0  \n",
      "requests                  2.25.1             pyhd3eb1b0_0  \n",
      "requests-oauthlib         1.3.0                    pypi_0    pypi\n",
      "rfc3987                   1.3.8                    pypi_0    pypi\n",
      "ripgrep                   12.1.1                        0  \n",
      "rsa                       4.7.2                    pypi_0    pypi\n",
      "ruamel_yaml               0.15.100         py37h27cfd23_0  \n",
      "s3transfer                0.5.0                    pypi_0    pypi\n",
      "scikit-image              0.18.3                   pypi_0    pypi\n",
      "scikit-learn              1.0.1                    pypi_0    pypi\n",
      "scipy                     1.7.2                    pypi_0    pypi\n",
      "send2trash                1.8.0                    pypi_0    pypi\n",
      "sentencepiece             0.1.86                   pypi_0    pypi\n",
      "sentry-sdk                1.4.3                    pypi_0    pypi\n",
      "setuptools                58.0.4           py37h06a4308_0  \n",
      "shortuuid                 1.0.8                    pypi_0    pypi\n",
      "simplejson                3.17.5                   pypi_0    pypi\n",
      "six                       1.16.0             pyhd3eb1b0_0  \n",
      "smart-open                5.2.1                    pypi_0    pypi\n",
      "smmap                     5.0.0                    pypi_0    pypi\n",
      "soupsieve                 2.2.1              pyhd3eb1b0_0  \n",
      "spacy                     3.2.0                    pypi_0    pypi\n",
      "spacy-legacy              3.0.8                    pypi_0    pypi\n",
      "spacy-loggers             1.0.1                    pypi_0    pypi\n",
      "sqlite                    3.36.0               hc218d9a_0  \n",
      "srsly                     2.4.2                    pypi_0    pypi\n",
      "strict-rfc3339            0.7                      pypi_0    pypi\n",
      "subprocess32              3.5.4                    pypi_0    pypi\n",
      "swagger-spec-validator    2.7.4                    pypi_0    pypi\n",
      "tensorboard               2.7.0                    pypi_0    pypi\n",
      "tensorboard-data-server   0.6.1                    pypi_0    pypi\n",
      "tensorboard-plugin-wit    1.8.0                    pypi_0    pypi\n",
      "tensorboardx              2.2                      pypi_0    pypi\n",
      "termcolor                 1.1.0                    pypi_0    pypi\n",
      "terminado                 0.12.1                   pypi_0    pypi\n",
      "testpath                  0.5.0                    pypi_0    pypi\n",
      "thinc                     8.0.13                   pypi_0    pypi\n",
      "threadpoolctl             3.0.0                    pypi_0    pypi\n",
      "tifffile                  2021.11.2                pypi_0    pypi\n",
      "tk                        8.6.10               hbc83047_0  \n",
      "torchelastic              0.2.0                    pypi_0    pypi\n",
      "torchtext                 0.11.0                     py37    pytorch\n",
      "torchvision               0.11.0               py37_cu113    pytorch\n",
      "tornado                   6.1                      pypi_0    pypi\n",
      "tqdm                      4.61.2             pyhd3eb1b0_1  \n",
      "traitlets                 5.1.0              pyhd3eb1b0_0  \n",
      "typer                     0.4.0                    pypi_0    pypi\n",
      "typing_extensions         3.10.0.2           pyh06a4308_0  \n",
      "tzdata                    2021a                h52ac0ba_0  \n",
      "urllib3                   1.26.6             pyhd3eb1b0_1  \n",
      "wandb                     0.12.6                   pypi_0    pypi\n",
      "wasabi                    0.8.2                    pypi_0    pypi\n",
      "wcwidth                   0.2.5              pyhd3eb1b0_0  \n",
      "webcolors                 1.11.1                   pypi_0    pypi\n",
      "webencodings              0.5.1                    pypi_0    pypi\n",
      "websocket-client          1.2.1                    pypi_0    pypi\n",
      "werkzeug                  2.0.2                    pypi_0    pypi\n",
      "wheel                     0.36.2             pyhd3eb1b0_0  \n",
      "widgetsnbextension        3.5.2                    pypi_0    pypi\n",
      "xz                        5.2.5                h7b6447c_0  \n",
      "yaml                      0.2.5                h7b6447c_0  \n",
      "yaspin                    2.1.0                    pypi_0    pypi\n",
      "zipp                      3.6.0                    pypi_0    pypi\n",
      "zlib                      1.2.11               h7b6447c_3  \n",
      "zstd                      1.4.9                haebb681_0  \n",
      "\n",
      "Note: you may need to restart the kernel to use updated packages.\n"
     ]
    }
   ],
   "source": [
    "conda list"
   ]
  },
  {
   "cell_type": "code",
   "execution_count": 5,
   "metadata": {
    "collapsed": true,
    "jupyter": {
     "outputs_hidden": true
    },
    "tags": []
   },
   "outputs": [
    {
     "name": "stdout",
     "output_type": "stream",
     "text": [
      "# conda environments:\n",
      "#\n",
      "base                  *  /opt/conda\n",
      "\n",
      "\n",
      "Note: you may need to restart the kernel to use updated packages.\n"
     ]
    }
   ],
   "source": [
    "conda env list"
   ]
  },
  {
   "cell_type": "markdown",
   "metadata": {},
   "source": [
    "Lets import the libraries"
   ]
  },
  {
   "cell_type": "code",
   "execution_count": 49,
   "metadata": {},
   "outputs": [],
   "source": [
    "# Basic python and ML Libraries\n",
    "import os\n",
    "import random\n",
    "import numpy as np\n",
    "import pandas as pd\n",
    "# for ignoring warnings\n",
    "import warnings\n",
    "warnings.filterwarnings('ignore')\n",
    "\n",
    "# We will be reading images using OpenCV\n",
    "import cv2\n",
    "from PIL import Image\n",
    "\n",
    "# xml library for parsing xml files\n",
    "from xml.etree import ElementTree as et\n",
    "\n",
    "# matplotlib for visualization\n",
    "import matplotlib.pyplot as plt\n",
    "import matplotlib.patches as patches\n",
    "\n",
    "# torchvision libraries\n",
    "import torch\n",
    "import torchvision\n",
    "from torchvision import transforms as torchtrans  \n",
    "from torchvision.models.detection.faster_rcnn import FastRCNNPredictor\n",
    "\n",
    "# these are the helper libraries imported.\n",
    "from engine import train_one_epoch, evaluate\n",
    "import utils\n",
    "import transforms as T\n",
    "\n",
    "# for image augmentations\n",
    "import albumentations as A\n",
    "from albumentations.pytorch.transforms import ToTensorV2\n"
   ]
  },
  {
   "cell_type": "code",
   "execution_count": 10,
   "metadata": {
    "collapsed": true,
    "jupyter": {
     "outputs_hidden": true
    },
    "scrolled": true,
    "tags": []
   },
   "outputs": [
    {
     "name": "stdout",
     "output_type": "stream",
     "text": [
      "|===========================================================================|\n",
      "|                  PyTorch CUDA memory summary, device ID 0                 |\n",
      "|---------------------------------------------------------------------------|\n",
      "|            CUDA OOMs: 0            |        cudaMalloc retries: 0         |\n",
      "|===========================================================================|\n",
      "|        Metric         | Cur Usage  | Peak Usage | Tot Alloc  | Tot Freed  |\n",
      "|---------------------------------------------------------------------------|\n",
      "| Allocated memory      |       0 B  |       0 B  |       0 B  |       0 B  |\n",
      "|       from large pool |       0 B  |       0 B  |       0 B  |       0 B  |\n",
      "|       from small pool |       0 B  |       0 B  |       0 B  |       0 B  |\n",
      "|---------------------------------------------------------------------------|\n",
      "| Active memory         |       0 B  |       0 B  |       0 B  |       0 B  |\n",
      "|       from large pool |       0 B  |       0 B  |       0 B  |       0 B  |\n",
      "|       from small pool |       0 B  |       0 B  |       0 B  |       0 B  |\n",
      "|---------------------------------------------------------------------------|\n",
      "| GPU reserved memory   |       0 B  |       0 B  |       0 B  |       0 B  |\n",
      "|       from large pool |       0 B  |       0 B  |       0 B  |       0 B  |\n",
      "|       from small pool |       0 B  |       0 B  |       0 B  |       0 B  |\n",
      "|---------------------------------------------------------------------------|\n",
      "| Non-releasable memory |       0 B  |       0 B  |       0 B  |       0 B  |\n",
      "|       from large pool |       0 B  |       0 B  |       0 B  |       0 B  |\n",
      "|       from small pool |       0 B  |       0 B  |       0 B  |       0 B  |\n",
      "|---------------------------------------------------------------------------|\n",
      "| Allocations           |       0    |       0    |       0    |       0    |\n",
      "|       from large pool |       0    |       0    |       0    |       0    |\n",
      "|       from small pool |       0    |       0    |       0    |       0    |\n",
      "|---------------------------------------------------------------------------|\n",
      "| Active allocs         |       0    |       0    |       0    |       0    |\n",
      "|       from large pool |       0    |       0    |       0    |       0    |\n",
      "|       from small pool |       0    |       0    |       0    |       0    |\n",
      "|---------------------------------------------------------------------------|\n",
      "| GPU reserved segments |       0    |       0    |       0    |       0    |\n",
      "|       from large pool |       0    |       0    |       0    |       0    |\n",
      "|       from small pool |       0    |       0    |       0    |       0    |\n",
      "|---------------------------------------------------------------------------|\n",
      "| Non-releasable allocs |       0    |       0    |       0    |       0    |\n",
      "|       from large pool |       0    |       0    |       0    |       0    |\n",
      "|       from small pool |       0    |       0    |       0    |       0    |\n",
      "|---------------------------------------------------------------------------|\n",
      "| Oversize allocations  |       0    |       0    |       0    |       0    |\n",
      "|---------------------------------------------------------------------------|\n",
      "| Oversize GPU segments |       0    |       0    |       0    |       0    |\n",
      "|===========================================================================|\n",
      "\n"
     ]
    }
   ],
   "source": [
    "print(torch.cuda.memory_summary())"
   ]
  },
  {
   "cell_type": "markdown",
   "metadata": {},
   "source": [
    "## Dataset "
   ]
  },
  {
   "cell_type": "code",
   "execution_count": 38,
   "metadata": {},
   "outputs": [
    {
     "name": "stdout",
     "output_type": "stream",
     "text": [
      "/notebooks/ml639a/639d\n"
     ]
    }
   ],
   "source": [
    "# Settings:\n",
    "\n",
    "!pwd\n",
    "\n",
    "files_dir = '../ir4/trainval/'\n",
    "test_dir  = '../ir4/test/'\n",
    "\n",
    "# files_dir = '../../imgdata/inrm5/trainval/'\n",
    "# test_dir  = '../../imgdata/inrm5/test/'\n",
    "\n",
    "\n",
    "setwidth = 260\n",
    "\n",
    "#setheight = 7990  gives assertionerror. 7500 works.\n",
    "setheight = 7500\n",
    "\n",
    "img_file_suffix = 'edit this below in the code'\n",
    "\n",
    "setclasses = \"  ****   edit below   **** self.classes = [_, 'Chip', 'Crack']  ****  \"  \n",
    "\n",
    "num_classes = 2\n",
    "\n",
    "test_split = 0.5\n",
    "\n",
    "num_epochs = 4\n"
   ]
  },
  {
   "cell_type": "markdown",
   "metadata": {},
   "source": [
    "# Inspect one image.."
   ]
  },
  {
   "cell_type": "code",
   "execution_count": 39,
   "metadata": {},
   "outputs": [
    {
     "name": "stdout",
     "output_type": "stream",
     "text": [
      "(7990, 260, 3)\n",
      "PNG\n",
      "../ir4/trainval/inner_rim_210805T103940.png\n"
     ]
    }
   ],
   "source": [
    "imgs = [image for image in sorted(os.listdir(files_dir))\n",
    "                    if image[-4:]=='.png']\n",
    "\n",
    "img_name = imgs[1]\n",
    "image_path = os.path.join(files_dir, img_name)\n",
    "\n",
    "# reading the images and converting them to correct size and color    \n",
    "import cv2\n",
    "img = cv2.imread(image_path)\n",
    "imgp = Image.open(image_path)\n",
    "img_rgb = cv2.cvtColor(img, cv2.COLOR_BGR2RGB).astype(np.float32)\n",
    "#img_res = cv2.resize(img_rgb, (width, height), cv2.INTER_AREA)\n",
    "# diving by 255\n",
    "# img_res /= 255.0\n",
    "\n",
    "print( img.shape)\n",
    "print( imgp.format)\n",
    "print( image_path)\n"
   ]
  },
  {
   "cell_type": "markdown",
   "metadata": {},
   "source": [
    "Lets build the images dataset"
   ]
  },
  {
   "cell_type": "code",
   "execution_count": 40,
   "metadata": {
    "_cell_guid": "79c7e3d0-c299-4dcb-8224-4455121ee9b0",
    "_uuid": "d629ff2d2480ee46fbb7e2d37f6b5fab8052498a",
    "scrolled": true
   },
   "outputs": [],
   "source": [
    "# defining the files directory and testing directory\n",
    "# files_dir = '../cast04c/train'\n",
    "# test_dir = '../cast04c/test'\n",
    "# files_dir = '../imgdata/sg/s1out/train/'\n",
    "# test_dir = '../imgdata/sg/s1out/test/'\n",
    "\n",
    "\n",
    "class AaImagesDataset(torch.utils.data.Dataset):\n",
    "\n",
    "    def __init__(self, files_dir, width, height, transforms=None):\n",
    "        self.transforms = transforms\n",
    "        self.files_dir = files_dir\n",
    "        self.height = height\n",
    "        self.width = width\n",
    "        \n",
    "        # sorting the images for consistency\n",
    "        # To get images, the extension of the filename is checked to be jpg\n",
    "        self.imgs = [image for image in sorted(os.listdir(files_dir))\n",
    "                        if image[-4:]=='.png']\n",
    "        \n",
    "        # classes: 0 index is reserved for background\n",
    "        self.classes = [_, 'Chip']\n",
    "\n",
    "    def __getitem__(self, idx):\n",
    "\n",
    "        img_name = self.imgs[idx]\n",
    "        image_path = os.path.join(self.files_dir, img_name)\n",
    "\n",
    "        # reading the images and converting them to correct size and color    \n",
    "        img = cv2.imread(image_path)\n",
    "        imgp = Image.open(image_path)\n",
    "        #print(idx, imgp.format)\n",
    "        img_rgb = cv2.cvtColor(img, cv2.COLOR_BGR2RGB).astype(np.float32)\n",
    "        img_res = cv2.resize(img_rgb, (self.width, self.height), cv2.INTER_AREA)\n",
    "        # diving by 255\n",
    "        img_res /= 255.0\n",
    "        \n",
    "        # annotation file\n",
    "        annot_filename = img_name[:-4] + '.xml'\n",
    "        annot_file_path = os.path.join(self.files_dir, annot_filename)\n",
    "        \n",
    "        boxes = []\n",
    "        labels = []\n",
    "        tree = et.parse(annot_file_path)\n",
    "        root = tree.getroot()\n",
    "        \n",
    "        # cv2 image gives size as height x width\n",
    "        wt = img.shape[1]\n",
    "        ht = img.shape[0]\n",
    "        \n",
    "        # box coordinates for xml files are extracted and corrected for image size given\n",
    "        for member in root.findall('object'):\n",
    "            labels.append(self.classes.index(member.find('name').text))\n",
    "            \n",
    "            # bounding box\n",
    "            xmin = int(member.find('bndbox').find('xmin').text)\n",
    "            xmax = int(member.find('bndbox').find('xmax').text)\n",
    "            \n",
    "            ymin = int(member.find('bndbox').find('ymin').text)\n",
    "            ymax = int(member.find('bndbox').find('ymax').text)\n",
    "            \n",
    "            xmin_corr = (xmin/wt)*self.width\n",
    "            xmax_corr = (xmax/wt)*self.width\n",
    "            ymin_corr = (ymin/ht)*self.height\n",
    "            ymax_corr = (ymax/ht)*self.height\n",
    "            \n",
    "            boxes.append([xmin_corr, ymin_corr, xmax_corr, ymax_corr])\n",
    "        \n",
    "        # convert boxes into a torch.Tensor\n",
    "        boxes = torch.as_tensor(boxes, dtype=torch.float32)\n",
    "        \n",
    "        # getting the areas of the boxes\n",
    "        area = (boxes[:, 3] - boxes[:, 1]) * (boxes[:, 2] - boxes[:, 0])\n",
    "\n",
    "        # suppose all instances are not crowd\n",
    "        iscrowd = torch.zeros((boxes.shape[0],), dtype=torch.int64)\n",
    "        \n",
    "        labels = torch.as_tensor(labels, dtype=torch.int64)\n",
    "\n",
    "        target = {}\n",
    "        target[\"boxes\"] = boxes\n",
    "        target[\"labels\"] = labels\n",
    "        target[\"area\"] = area\n",
    "        target[\"iscrowd\"] = iscrowd\n",
    "        # image_id\n",
    "        image_id = torch.tensor([idx])\n",
    "        target[\"image_id\"] = image_id\n",
    "\n",
    "        if self.transforms:\n",
    "            sample = self.transforms(image = img_res,\n",
    "                                     bboxes = target['boxes'],\n",
    "                                     labels = labels)\n",
    "            img_res = sample['image']\n",
    "            target['boxes'] = torch.Tensor(sample['bboxes'])\n",
    "                       \n",
    "        return img_res, target\n",
    "\n",
    "    def __len__(self):\n",
    "        return len(self.imgs)\n"
   ]
  },
  {
   "cell_type": "code",
   "execution_count": 41,
   "metadata": {},
   "outputs": [
    {
     "name": "stdout",
     "output_type": "stream",
     "text": [
      "length of dataset =  5 \n",
      "\n",
      "(7500, 260, 3) \n",
      " {'boxes': tensor([[1.0000e+00, 6.3492e+03, 1.7300e+02, 6.5379e+03]]), 'labels': tensor([1]), 'area': tensor([32451.8145]), 'iscrowd': tensor([0]), 'image_id': tensor([0])}\n"
     ]
    }
   ],
   "source": [
    "\n",
    "# check dataset\n",
    "dataset = AaImagesDataset(files_dir, setwidth, setheight)\n",
    "print('length of dataset = ', len(dataset), '\\n')\n",
    "\n",
    "# getting the image and target for a test index.  Feel free to change the index.\n",
    "img, target = dataset[0]\n",
    "print(img.shape, '\\n',target)"
   ]
  },
  {
   "cell_type": "markdown",
   "metadata": {},
   "source": [
    "Points to be noted -\n",
    "1. The dataset returns a tuple. The first element is the image shape and the second element is a dictionary.\n",
    "2. The image is of the size, we provided while defining the dataset and the color mode is RGB.\n",
    "3. There are four bounding boxes in the image which is evident from four lists in boxes and length of labels."
   ]
  },
  {
   "cell_type": "markdown",
   "metadata": {},
   "source": [
    "And its done! \n",
    "\n",
    "Dataset building is one of the hardest things in the notebook. If you got till here while understand all of the above, you are doing pretty good!\n",
    "\n",
    "Let's now see, what our data looks like. The function is inspired from [here](https://www.kaggle.com/kiwifairy/visualize-x-ray-image-with-bounding-boxes)"
   ]
  },
  {
   "cell_type": "markdown",
   "metadata": {},
   "source": [
    "# Dataset Visualization"
   ]
  },
  {
   "cell_type": "code",
   "execution_count": 42,
   "metadata": {},
   "outputs": [
    {
     "name": "stdout",
     "output_type": "stream",
     "text": [
      "tensor([1.0000e+00, 1.2663e+03, 1.9700e+02, 1.6399e+03])\n"
     ]
    },
    {
     "data": {
      "image/png": "[encoded data removed]",
      "text/plain": [
       "<Figure size 360x360 with 1 Axes>"
      ]
     },
     "metadata": {
      "needs_background": "light"
     },
     "output_type": "display_data"
    },
    {
     "name": "stdout",
     "output_type": "stream",
     "text": [
      "img: [[[0.15345359 0.15345359 0.15345359]\n",
      "  [0.1716523  0.1716523  0.1716523 ]\n",
      "  [0.17139608 0.17139608 0.17139608]\n",
      "  ...\n",
      "  [0.20353724 0.20353724 0.20353724]\n",
      "  [0.20353724 0.20353724 0.20353724]\n",
      "  [0.19228497 0.19228497 0.19228497]]\n",
      "\n",
      " [[0.1670902  0.1670902  0.1670902 ]\n",
      "  [0.14509805 0.14509805 0.14509805]\n",
      "  [0.14109804 0.14109804 0.14109804]\n",
      "  ...\n",
      "  [0.19292548 0.19292548 0.19292548]\n",
      "  [0.19292548 0.19292548 0.19292548]\n",
      "  [0.19569412 0.19569412 0.19569412]]\n",
      "\n",
      " [[0.15037909 0.15037909 0.15037909]\n",
      "  [0.14766012 0.14766012 0.14766012]\n",
      "  [0.17903268 0.17903268 0.17903268]\n",
      "  ...\n",
      "  [0.19935948 0.19935948 0.19935948]\n",
      "  [0.20064051 0.20064051 0.20064051]\n",
      "  [0.19215687 0.19215687 0.19215687]]\n",
      "\n",
      " ...\n",
      "\n",
      " [[0.16199449 0.16199449 0.16199449]\n",
      "  [0.16862746 0.16862746 0.16862746]\n",
      "  [0.18438649 0.18438649 0.18438649]\n",
      "  ...\n",
      "  [0.19935854 0.19935854 0.19935854]\n",
      "  [0.19607843 0.19607843 0.19607843]\n",
      "  [0.19408126 0.19408126 0.19408126]]\n",
      "\n",
      " [[0.1391793  0.1391793  0.1391793 ]\n",
      "  [0.14387064 0.14387064 0.14387064]\n",
      "  [0.17408854 0.17408854 0.17408854]\n",
      "  ...\n",
      "  [0.19292663 0.19292663 0.19292663]\n",
      "  [0.19961512 0.19961512 0.19961512]\n",
      "  [0.19215687 0.19215687 0.19215687]]\n",
      "\n",
      " [[0.12587507 0.12587507 0.12587507]\n",
      "  [0.12979664 0.12979664 0.12979664]\n",
      "  [0.15358265 0.15358265 0.15358265]\n",
      "  ...\n",
      "  [0.19595014 0.19595014 0.19595014]\n",
      "  [0.1848269  0.1848269  0.1848269 ]\n",
      "  [0.19215687 0.19215687 0.19215687]]] targ: {'boxes': tensor([[1.0000e+00, 1.2663e+03, 1.9700e+02, 1.6399e+03]]), 'labels': tensor([1]), 'area': tensor([73224.0156]), 'iscrowd': tensor([0]), 'image_id': tensor([1])}\n"
     ]
    }
   ],
   "source": [
    "# Function to visualize bounding boxes in the image\n",
    "\n",
    "def plot_img_bbox(img, target):\n",
    "    # plot the image and bboxes\n",
    "    # Bounding boxes are defined as follows: x-min y-min width height\n",
    "    fig, a = plt.subplots(1,1)\n",
    "    fig.set_size_inches(5,5)\n",
    "    a.imshow(img)\n",
    "    for box in ((target['boxes']).cpu()):\n",
    "        print(box)\n",
    "        x, y, width, height  = box[0], box[1], box[2]-box[0], box[3]-box[1]\n",
    "        rect = patches.Rectangle((x, y),\n",
    "                                 width, height,\n",
    "                                 linewidth = 2,\n",
    "                                 edgecolor = 'r',\n",
    "                                 facecolor = 'none')\n",
    "\n",
    "        # Draw the bounding box on top of the image\n",
    "        a.add_patch(rect)\n",
    "    plt.show()\n",
    "    \n",
    "# plotting the image with bboxes. Feel free to change the index\n",
    "img, target = dataset[1]\n",
    "plot_img_bbox(img, target)\n",
    "print(\"img:\",img,\"targ:\",target)"
   ]
  },
  {
   "cell_type": "markdown",
   "metadata": {},
   "source": [
    "You can see that we are doing great till now, as the bbox is correctly placed. \n",
    "\n",
    "Lets build the model then!"
   ]
  },
  {
   "cell_type": "markdown",
   "metadata": {},
   "source": [
    "# Prep Model"
   ]
  },
  {
   "cell_type": "markdown",
   "metadata": {},
   "source": [
    "We will define a function for loading the model. We will call it later"
   ]
  },
  {
   "cell_type": "code",
   "execution_count": 43,
   "metadata": {},
   "outputs": [],
   "source": [
    "\n",
    "def get_object_detection_model(num_classes):\n",
    "\n",
    "    # load a model pre-trained pre-trained on COCO\n",
    "    model = torchvision.models.detection.fasterrcnn_resnet50_fpn(pretrained=True)\n",
    "    \n",
    "    # get number of input features for the classifier\n",
    "    in_features = model.roi_heads.box_predictor.cls_score.in_features\n",
    "    # replace the pre-trained head with a new one\n",
    "    model.roi_heads.box_predictor = FastRCNNPredictor(in_features, num_classes) \n",
    "\n",
    "    return model"
   ]
  },
  {
   "cell_type": "markdown",
   "metadata": {},
   "source": [
    "You can clearly see, how easy it is to load and prepare the model using pytorch"
   ]
  },
  {
   "cell_type": "markdown",
   "metadata": {},
   "source": [
    "# Dataset Augmentations"
   ]
  },
  {
   "cell_type": "markdown",
   "metadata": {},
   "source": [
    "This is where we can apply augmentations to the image. \n",
    "\n",
    "The augmentations to object detection vary from normal augmentations becuase here we need to ensure that, bbox still aligns with the object correctly after transforming.\n",
    "\n",
    "Here I have added random flip transform, feel free to customize it as you feel\n",
    "\n"
   ]
  },
  {
   "cell_type": "code",
   "execution_count": 44,
   "metadata": {},
   "outputs": [],
   "source": [
    "# Send train=True fro training transforms and False for val/test transforms\n",
    "def get_transform(train):\n",
    "    \n",
    "    if train:\n",
    "        return A.Compose([\n",
    "                            A.HorizontalFlip(0.5),\n",
    "                     # ToTensorV2 converts image to pytorch tensor without div by 255\n",
    "                            ToTensorV2(p=1.0) \n",
    "                        ], bbox_params={'format': 'pascal_voc', 'label_fields': ['labels']})\n",
    "    else:\n",
    "        return A.Compose([\n",
    "                            ToTensorV2(p=1.0)\n",
    "                        ], bbox_params={'format': 'pascal_voc', 'label_fields': ['labels']})"
   ]
  },
  {
   "cell_type": "markdown",
   "metadata": {},
   "source": [
    "# Preparing dataset"
   ]
  },
  {
   "cell_type": "markdown",
   "metadata": {},
   "source": [
    "Now lets prepare datasets and dataloaders for training and testing."
   ]
  },
  {
   "cell_type": "code",
   "execution_count": 45,
   "metadata": {},
   "outputs": [],
   "source": [
    "# use our dataset and defined transformations\n",
    "dataset = AaImagesDataset(files_dir,  setwidth, setheight, transforms= get_transform(train=True))\n",
    "dataset_test = AaImagesDataset(files_dir, setwidth, setheight, transforms= get_transform(train=False))\n",
    "\n",
    "# split the dataset in train and test set\n",
    "torch.manual_seed(1)\n",
    "indices = torch.randperm(len(dataset)).tolist()\n",
    "\n",
    "# train test split\n",
    "# test_split = 0.5\n",
    "tsize = int(len(dataset)*test_split)\n",
    "dataset = torch.utils.data.Subset(dataset, indices[:-tsize])\n",
    "dataset_test = torch.utils.data.Subset(dataset_test, indices[-tsize:])\n",
    "\n",
    "# define training and validation data loaders\n",
    "data_loader = torch.utils.data.DataLoader(\n",
    "    dataset, batch_size=10, shuffle=True, num_workers=4,\n",
    "    collate_fn=utils.collate_fn)\n",
    "\n",
    "data_loader_test = torch.utils.data.DataLoader(\n",
    "    dataset_test, batch_size=10, shuffle=False, num_workers=4,\n",
    "    collate_fn=utils.collate_fn)"
   ]
  },
  {
   "cell_type": "markdown",
   "metadata": {},
   "source": [
    "# Training"
   ]
  },
  {
   "cell_type": "markdown",
   "metadata": {},
   "source": [
    "Let's prepare the model for training"
   ]
  },
  {
   "cell_type": "code",
   "execution_count": 46,
   "metadata": {},
   "outputs": [],
   "source": [
    "# to train on gpu if selected.\n",
    "device = torch.device('cuda') if torch.cuda.is_available() else torch.device('cpu')\n",
    "\n",
    "# get the model using our helper function\n",
    "model = get_object_detection_model(num_classes)\n",
    "\n",
    "# move model to the right device\n",
    "model.to(device)\n",
    "\n",
    "# construct an optimizer\n",
    "params = [p for p in model.parameters() if p.requires_grad]\n",
    "optimizer = torch.optim.SGD(params, lr=0.005,\n",
    "                            momentum=0.9, weight_decay=0.0005)\n",
    "\n",
    "# and a learning rate scheduler which decreases the learning rate by\n",
    "# 10x every 3 epochs\n",
    "lr_scheduler = torch.optim.lr_scheduler.StepLR(optimizer,\n",
    "                                               step_size=3,\n",
    "                                               gamma=0.1)"
   ]
  },
  {
   "cell_type": "markdown",
   "metadata": {},
   "source": [
    "Let the training begin!"
   ]
  },
  {
   "cell_type": "code",
   "execution_count": 18,
   "metadata": {},
   "outputs": [],
   "source": [
    "# !export PYTORCH_CUDA_ALLOC_CONF=max_split_size_mb:128"
   ]
  },
  {
   "cell_type": "markdown",
   "metadata": {},
   "source": [
    "# Run the training......."
   ]
  },
  {
   "cell_type": "code",
   "execution_count": 47,
   "metadata": {},
   "outputs": [
    {
     "name": "stdout",
     "output_type": "stream",
     "text": [
      "Epoch: [0]  [0/1]  eta: 0:00:06  lr: 0.000005  loss: 1.1654 (1.1654)  loss_classifier: 0.9753 (0.9753)  loss_box_reg: 0.0757 (0.0757)  loss_objectness: 0.1064 (0.1064)  loss_rpn_box_reg: 0.0080 (0.0080)  time: 6.6387  data: 1.0879  max mem: 793\n",
      "Epoch: [0] Total time: 0:00:06 (6.6879 s / it)\n",
      "creating index...\n",
      "index created!\n",
      "Test:  [0/1]  eta: 0:00:01  model_time: 0.0695 (0.0695)  evaluator_time: 0.0147 (0.0147)  time: 1.5795  data: 1.4827  max mem: 885\n",
      "Test: Total time: 0:00:01 (1.6458 s / it)\n",
      "Averaged stats: model_time: 0.0695 (0.0695)  evaluator_time: 0.0147 (0.0147)\n",
      "Accumulating evaluation results...\n",
      "DONE (t=0.00s).\n",
      "IoU metric: bbox\n",
      " Average Precision  (AP) @[ IoU=0.50:0.95 | area=   all | maxDets=100 ] = 0.00301\n",
      " Average Precision  (AP) @[ IoU=0.50      | area=   all | maxDets=100 ] = 0.00902\n",
      " Average Precision  (AP) @[ IoU=0.75      | area=   all | maxDets=100 ] = 0.00000\n",
      " Average Precision  (AP) @[ IoU=0.50:0.95 | area= small | maxDets=100 ] = -1.00000\n",
      " Average Precision  (AP) @[ IoU=0.50:0.95 | area=medium | maxDets=100 ] = -1.00000\n",
      " Average Precision  (AP) @[ IoU=0.50:0.95 | area= large | maxDets=100 ] = 0.00309\n",
      " Average Recall     (AR) @[ IoU=0.50:0.95 | area=   all | maxDets=  1 ] = 0.00000\n",
      " Average Recall     (AR) @[ IoU=0.50:0.95 | area=   all | maxDets= 10 ] = 0.00000\n",
      " Average Recall     (AR) @[ IoU=0.50:0.95 | area=   all | maxDets=100 ] = 0.20000\n",
      " Average Recall     (AR) @[ IoU=0.50:0.95 | area= small | maxDets=100 ] = -1.00000\n",
      " Average Recall     (AR) @[ IoU=0.50:0.95 | area=medium | maxDets=100 ] = -1.00000\n",
      " Average Recall     (AR) @[ IoU=0.50:0.95 | area= large | maxDets=100 ] = 0.20000\n",
      "Epoch: [1]  [0/1]  eta: 0:00:00  lr: 0.000005  loss: 1.1561 (1.1561)  loss_classifier: 0.9726 (0.9726)  loss_box_reg: 0.0757 (0.0757)  loss_objectness: 0.0998 (0.0998)  loss_rpn_box_reg: 0.0080 (0.0080)  time: 0.8569  data: 0.6651  max mem: 1105\n",
      "Epoch: [1] Total time: 0:00:00 (0.9234 s / it)\n",
      "creating index...\n",
      "index created!\n",
      "Test:  [0/1]  eta: 0:00:00  model_time: 0.0555 (0.0555)  evaluator_time: 0.0134 (0.0134)  time: 0.5342  data: 0.4541  max mem: 1105\n",
      "Test: Total time: 0:00:00 (0.6171 s / it)\n",
      "Averaged stats: model_time: 0.0555 (0.0555)  evaluator_time: 0.0134 (0.0134)\n",
      "Accumulating evaluation results...\n",
      "DONE (t=0.01s).\n",
      "IoU metric: bbox\n",
      " Average Precision  (AP) @[ IoU=0.50:0.95 | area=   all | maxDets=100 ] = 0.00317\n",
      " Average Precision  (AP) @[ IoU=0.50      | area=   all | maxDets=100 ] = 0.00953\n",
      " Average Precision  (AP) @[ IoU=0.75      | area=   all | maxDets=100 ] = 0.00000\n",
      " Average Precision  (AP) @[ IoU=0.50:0.95 | area= small | maxDets=100 ] = -1.00000\n",
      " Average Precision  (AP) @[ IoU=0.50:0.95 | area=medium | maxDets=100 ] = -1.00000\n",
      " Average Precision  (AP) @[ IoU=0.50:0.95 | area= large | maxDets=100 ] = 0.00325\n",
      " Average Recall     (AR) @[ IoU=0.50:0.95 | area=   all | maxDets=  1 ] = 0.00000\n",
      " Average Recall     (AR) @[ IoU=0.50:0.95 | area=   all | maxDets= 10 ] = 0.00000\n",
      " Average Recall     (AR) @[ IoU=0.50:0.95 | area=   all | maxDets=100 ] = 0.20000\n",
      " Average Recall     (AR) @[ IoU=0.50:0.95 | area= small | maxDets=100 ] = -1.00000\n",
      " Average Recall     (AR) @[ IoU=0.50:0.95 | area=medium | maxDets=100 ] = -1.00000\n",
      " Average Recall     (AR) @[ IoU=0.50:0.95 | area= large | maxDets=100 ] = 0.20000\n",
      "Epoch: [2]  [0/1]  eta: 0:00:01  lr: 0.000005  loss: 1.1540 (1.1540)  loss_classifier: 0.9680 (0.9680)  loss_box_reg: 0.0788 (0.0788)  loss_objectness: 0.0992 (0.0992)  loss_rpn_box_reg: 0.0080 (0.0080)  time: 1.4677  data: 1.2800  max mem: 1106\n",
      "Epoch: [2] Total time: 0:00:01 (1.5400 s / it)\n",
      "creating index...\n",
      "index created!\n",
      "Test:  [0/1]  eta: 0:00:00  model_time: 0.0614 (0.0614)  evaluator_time: 0.0144 (0.0144)  time: 0.6038  data: 0.5166  max mem: 1106\n",
      "Test: Total time: 0:00:00 (0.6759 s / it)\n",
      "Averaged stats: model_time: 0.0614 (0.0614)  evaluator_time: 0.0144 (0.0144)\n",
      "Accumulating evaluation results...\n",
      "DONE (t=0.00s).\n",
      "IoU metric: bbox\n",
      " Average Precision  (AP) @[ IoU=0.50:0.95 | area=   all | maxDets=100 ] = 0.00328\n",
      " Average Precision  (AP) @[ IoU=0.50      | area=   all | maxDets=100 ] = 0.00990\n",
      " Average Precision  (AP) @[ IoU=0.75      | area=   all | maxDets=100 ] = 0.00000\n",
      " Average Precision  (AP) @[ IoU=0.50:0.95 | area= small | maxDets=100 ] = -1.00000\n",
      " Average Precision  (AP) @[ IoU=0.50:0.95 | area=medium | maxDets=100 ] = -1.00000\n",
      " Average Precision  (AP) @[ IoU=0.50:0.95 | area= large | maxDets=100 ] = 0.00337\n",
      " Average Recall     (AR) @[ IoU=0.50:0.95 | area=   all | maxDets=  1 ] = 0.00000\n",
      " Average Recall     (AR) @[ IoU=0.50:0.95 | area=   all | maxDets= 10 ] = 0.00000\n",
      " Average Recall     (AR) @[ IoU=0.50:0.95 | area=   all | maxDets=100 ] = 0.20000\n",
      " Average Recall     (AR) @[ IoU=0.50:0.95 | area= small | maxDets=100 ] = -1.00000\n",
      " Average Recall     (AR) @[ IoU=0.50:0.95 | area=medium | maxDets=100 ] = -1.00000\n",
      " Average Recall     (AR) @[ IoU=0.50:0.95 | area= large | maxDets=100 ] = 0.20000\n",
      "Epoch: [3]  [0/1]  eta: 0:00:01  lr: 0.000001  loss: 1.1479 (1.1479)  loss_classifier: 0.9578 (0.9578)  loss_box_reg: 0.0787 (0.0787)  loss_objectness: 0.1034 (0.1034)  loss_rpn_box_reg: 0.0080 (0.0080)  time: 1.0391  data: 0.8563  max mem: 1106\n",
      "Epoch: [3] Total time: 0:00:01 (1.1016 s / it)\n",
      "creating index...\n",
      "index created!\n",
      "Test:  [0/1]  eta: 0:00:00  model_time: 0.0563 (0.0563)  evaluator_time: 0.0140 (0.0140)  time: 0.5653  data: 0.4837  max mem: 1106\n",
      "Test: Total time: 0:00:00 (0.6300 s / it)\n",
      "Averaged stats: model_time: 0.0563 (0.0563)  evaluator_time: 0.0140 (0.0140)\n",
      "Accumulating evaluation results...\n",
      "DONE (t=0.00s).\n",
      "IoU metric: bbox\n",
      " Average Precision  (AP) @[ IoU=0.50:0.95 | area=   all | maxDets=100 ] = 0.00328\n",
      " Average Precision  (AP) @[ IoU=0.50      | area=   all | maxDets=100 ] = 0.00990\n",
      " Average Precision  (AP) @[ IoU=0.75      | area=   all | maxDets=100 ] = 0.00000\n",
      " Average Precision  (AP) @[ IoU=0.50:0.95 | area= small | maxDets=100 ] = -1.00000\n",
      " Average Precision  (AP) @[ IoU=0.50:0.95 | area=medium | maxDets=100 ] = -1.00000\n",
      " Average Precision  (AP) @[ IoU=0.50:0.95 | area= large | maxDets=100 ] = 0.00337\n",
      " Average Recall     (AR) @[ IoU=0.50:0.95 | area=   all | maxDets=  1 ] = 0.00000\n",
      " Average Recall     (AR) @[ IoU=0.50:0.95 | area=   all | maxDets= 10 ] = 0.00000\n",
      " Average Recall     (AR) @[ IoU=0.50:0.95 | area=   all | maxDets=100 ] = 0.20000\n",
      " Average Recall     (AR) @[ IoU=0.50:0.95 | area= small | maxDets=100 ] = -1.00000\n",
      " Average Recall     (AR) @[ IoU=0.50:0.95 | area=medium | maxDets=100 ] = -1.00000\n",
      " Average Recall     (AR) @[ IoU=0.50:0.95 | area= large | maxDets=100 ] = 0.20000\n",
      "reached.end.\n"
     ]
    }
   ],
   "source": [
    "# training for 10 epochs\n",
    "\n",
    "# edit me..\n",
    "#num_epochs = 3\n",
    "\n",
    "# !export PYTORCH_CUDA_ALLOC_CONF=max_split_size_mb:128\n",
    "torch.cuda.empty_cache()\n",
    "    \n",
    "for epoch in range(num_epochs):\n",
    "    # training for one epoch\n",
    "    train_one_epoch(model, optimizer, data_loader, device, epoch, print_freq=10)\n",
    "    # update the learning rate\n",
    "    lr_scheduler.step()\n",
    "    # evaluate on the test dataset\n",
    "    evaluate(model, data_loader_test, device=device)\n",
    "    \n",
    "print('reached.end.')"
   ]
  },
  {
   "cell_type": "markdown",
   "metadata": {},
   "source": [
    "\n",
    "# Comments\n",
    "\n",
    "An AP of 0.78-0.80 is not bad but perhaps we can make it even better with more augmentations, I will leave that to you."
   ]
  },
  {
   "cell_type": "markdown",
   "metadata": {},
   "source": [
    "# Decode predictions"
   ]
  },
  {
   "cell_type": "markdown",
   "metadata": {},
   "source": [
    "Our model predicts a lot of bounding boxes per image, to take out the overlapping ones, We will use **Non Max Suppression** if you want to brush up on that, check [this](https://towardsdatascience.com/non-maximum-suppression-nms-93ce178e177c) out.\n",
    "\n",
    "Torchvision provides us a utility to apply nms to our predictions, lets build a function `apply_nms` using that."
   ]
  },
  {
   "cell_type": "code",
   "execution_count": 23,
   "metadata": {},
   "outputs": [],
   "source": [
    "# the function takes the original prediction and the iou threshold.\n",
    "\n",
    "def apply_nms(orig_prediction, iou_thresh=0.3):\n",
    "    \n",
    "    # torchvision returns the indices of the bboxes to keep\n",
    "    keep = torchvision.ops.nms(orig_prediction['boxes'], orig_prediction['scores'], iou_thresh)\n",
    "    \n",
    "    final_prediction = orig_prediction\n",
    "    final_prediction['boxes'] = final_prediction['boxes'][keep]\n",
    "    final_prediction['scores'] = final_prediction['scores'][keep]\n",
    "    final_prediction['labels'] = final_prediction['labels'][keep]\n",
    "    \n",
    "    return final_prediction\n",
    "\n",
    "# function to convert a torchtensor back to PIL image\n",
    "def torch_to_pil(img):\n",
    "    return torchtrans.ToPILImage()(img).convert('RGB')"
   ]
  },
  {
   "cell_type": "markdown",
   "metadata": {},
   "source": [
    "# Testing our Generated/trained Model"
   ]
  },
  {
   "cell_type": "markdown",
   "metadata": {},
   "source": [
    "Lets take an image from our test dataset and see, how our model does.\n",
    "\n",
    "We will first see, how many bounding boxes does our model predict compared to actual"
   ]
  },
  {
   "cell_type": "code",
   "execution_count": 24,
   "metadata": {},
   "outputs": [
    {
     "name": "stdout",
     "output_type": "stream",
     "text": [
      "predicted #boxes:  100\n",
      "real #boxes:  1\n"
     ]
    }
   ],
   "source": [
    "# pick one image from the test set\n",
    "img, target = dataset_test[0]\n",
    "# put the model in evaluation mode\n",
    "model.eval()\n",
    "with torch.no_grad():\n",
    "    prediction = model([img.to(device)])[0]\n",
    "    \n",
    "print('predicted #boxes: ', len(prediction['labels']))\n",
    "print('real #boxes: ', len(target['labels']))"
   ]
  },
  {
   "cell_type": "markdown",
   "metadata": {},
   "source": [
    "Whoa! Thats a lot of bboxes. Lets plot them and check what did it predict"
   ]
  },
  {
   "cell_type": "code",
   "execution_count": 25,
   "metadata": {},
   "outputs": [
    {
     "name": "stdout",
     "output_type": "stream",
     "text": [
      "EXPECTED OUTPUT\n",
      "tensor([1.0000e+00, 4.6033e+03, 1.9200e+02, 4.9684e+03])\n"
     ]
    },
    {
     "data": {
      "image/png": "[encoded data removed]",
      "text/plain": [
       "<Figure size 360x360 with 1 Axes>"
      ]
     },
     "metadata": {
      "needs_background": "light"
     },
     "output_type": "display_data"
    }
   ],
   "source": [
    "print('EXPECTED OUTPUT')\n",
    "plot_img_bbox(torch_to_pil(img), target)"
   ]
  },
  {
   "cell_type": "code",
   "execution_count": 23,
   "metadata": {},
   "outputs": [
    {
     "name": "stdout",
     "output_type": "stream",
     "text": [
      "MODEL OUTPUT\n"
     ]
    },
    {
     "data": {
      "image/png": "[encoded data removed]",
      "text/plain": [
       "<Figure size 360x360 with 1 Axes>"
      ]
     },
     "metadata": {
      "needs_background": "light"
     },
     "output_type": "display_data"
    }
   ],
   "source": [
    "print('MODEL OUTPUT')\n",
    "plot_img_bbox(torch_to_pil(img), prediction)"
   ]
  },
  {
   "cell_type": "markdown",
   "metadata": {},
   "source": [
    "You can see that our model predicts a lot of bounding boxes for every apple. Lets apply nms to it and see the final output"
   ]
  },
  {
   "cell_type": "code",
   "execution_count": 26,
   "metadata": {},
   "outputs": [
    {
     "name": "stdout",
     "output_type": "stream",
     "text": [
      "NMS APPLIED MODEL OUTPUT\n",
      "tensor([   6.2022, 5462.4175,  130.4615, 5688.8037])\n",
      "tensor([   7.2863, 5448.0259,  188.8745, 5608.4341])\n",
      "tensor([   0.0000, 3779.1587,  260.0000, 4176.8164])\n",
      "tensor([   8.7999, 2130.0208,  116.4428, 2360.2910])\n",
      "tensor([   6.6063, 3730.0591,  167.0977, 4281.1021])\n",
      "tensor([   6.7150, 3952.7227,  129.8352, 4174.5508])\n",
      "tensor([  11.5871, 2120.5381,  171.1781, 2287.9858])\n",
      "tensor([  19.8778, 5469.8628,  202.7412, 6247.9634])\n",
      "tensor([2.4052e+00, 5.4839e+03, 2.6000e+02, 5.8961e+03])\n",
      "tensor([  18.9836, 7149.7090,  194.4704, 7368.9971])\n",
      "tensor([  12.1558, 6203.0298,  131.8967, 6978.2915])\n",
      "tensor([  17.7081, 4975.3794,   99.0222, 5273.7080])\n",
      "tensor([  29.6224, 6236.5225,  230.5768, 7075.0698])\n",
      "tensor([  13.6126, 6027.2456,  153.7451, 6237.3823])\n",
      "tensor([   6.6582, 4833.2095,   88.3663, 5543.1138])\n",
      "tensor([   9.8100, 5433.2227,  201.9000, 5521.0239])\n",
      "tensor([  76.7176, 3921.1843,  156.2630, 4248.6172])\n",
      "tensor([   7.2768, 5226.9453,  124.4350, 6170.1133])\n",
      "tensor([   7.8834,  411.2972,  122.3726, 1205.4879])\n",
      "tensor([1.1155e+00, 6.2964e+03, 2.6000e+02, 6.6853e+03])\n",
      "tensor([  10.2511, 1207.9458,  140.6793, 1732.2468])\n",
      "tensor([4.1400e+00, 4.8658e+03, 6.6921e+01, 5.1702e+03])\n",
      "tensor([   9.8019, 2902.5154,  129.4879, 3708.6470])\n",
      "tensor([  0.0000, 441.4967, 260.0000, 834.2288])\n",
      "tensor([  13.5551, 1838.9176,  141.2176, 2045.3009])\n",
      "tensor([  47.9101, 3981.9841,  132.9922, 4304.5830])\n",
      "tensor([   7.9572, 1339.4924,  131.6422, 2101.2349])\n",
      "tensor([  1.2397,   4.1682, 121.9637, 341.7541])\n",
      "tensor([   0.0000, 2943.3760,  256.3879, 3305.7336])\n",
      "tensor([ 154.4818, 3820.7944,  232.1096, 4038.0474])\n",
      "tensor([  18.7636, 7146.9409,  117.7157, 7447.7358])\n",
      "tensor([  25.3042, 2918.6768,  236.8584, 3730.2888])\n",
      "tensor([   9.0590, 4030.5825,  159.0360, 4255.2759])\n",
      "tensor([  16.7301,  966.6390,  152.9639, 1197.1188])\n",
      "tensor([  12.1587, 6129.0986,  156.5779, 6676.9731])\n",
      "tensor([   6.3213, 2152.6382,  180.0060, 2726.6301])\n",
      "tensor([  16.8219,  292.9384,  194.1874, 1203.2220])\n",
      "tensor([  14.5088, 3504.3440,  139.5111, 3712.7847])\n",
      "tensor([2.5815e+00, 4.8958e+03, 4.8974e+01, 5.0970e+03])\n",
      "tensor([  11.8904, 7021.4263,  233.7825, 7327.4189])\n",
      "tensor([  12.9436, 3508.6948,  138.6613, 4074.4900])\n",
      "tensor([  45.5397, 5605.9038,  136.1040, 5979.9985])\n",
      "tensor([ 133.5845, 5490.2485,  219.2554, 5962.6060])\n",
      "tensor([  25.8688, 1271.2233,  229.3783, 2092.9221])\n",
      "tensor([  12.5461, 5219.7915,  126.2771, 5422.6123])\n",
      "tensor([  15.1618, 6832.4780,  132.3543, 7370.2539])\n",
      "tensor([   4.5076, 2086.1482,  251.1190, 2438.2122])\n",
      "tensor([7.1131e+00, 6.9750e+03, 9.8902e+01, 7.4494e+03])\n",
      "tensor([   9.0994, 5313.8901,  103.2078, 5596.9927])\n",
      "tensor([   0.0000, 1268.9861,  260.0000, 1639.2991])\n",
      "tensor([1.6957e+00, 3.7693e+03, 3.1517e+01, 3.9661e+03])\n",
      "tensor([  73.1384, 1439.5513,  158.2553, 1724.9198])\n",
      "tensor([  13.8361, 6952.5342,  121.8720, 7119.1987])\n",
      "tensor([  45.7474, 3112.7222,  132.8624, 3442.5464])\n",
      "tensor([   9.9970, 4750.6304,  176.6452, 5343.6509])\n",
      "tensor([2.5582e+00, 3.8368e+03, 3.9059e+01, 4.0462e+03])\n",
      "tensor([3.8912e+00, 7.1398e+03, 7.7082e+01, 7.3525e+03])\n",
      "tensor([ 45.9113,  26.2868, 170.5164, 171.4935])\n",
      "tensor([  0.0000,   0.0000, 200.6721, 238.3439])\n",
      "tensor([  24.9669, 1410.1166,  102.4756, 1698.3712])\n",
      "tensor([   6.7929, 1990.1138,   94.3234, 2800.2212])\n",
      "tensor([ 36.9820,  41.8095, 141.5510, 269.5442])\n",
      "tensor([ 253.9342, 4683.3555,  260.0000, 5498.2954])\n",
      "tensor([   8.9577, 1995.6996,  157.4579, 2543.0100])\n",
      "tensor([   7.6707, 2801.5491,  135.0346, 3350.8318])\n",
      "tensor([  11.8330, 5334.6689,  250.8084, 5637.8320])\n",
      "tensor([2.7909e+00, 4.9778e+03, 4.5231e+01, 5.2169e+03])\n",
      "tensor([  17.5965, 3618.2168,  260.0000, 3960.8420])\n",
      "tensor([  10.3034,  810.1294,  126.6368, 1931.3245])\n",
      "tensor([   7.3011, 1156.7559,   90.3878, 1956.3556])\n",
      "tensor([2.4454e+00, 5.4052e+03, 4.4947e+01, 5.7262e+03])\n",
      "tensor([   3.3581, 2118.5298,   43.9190, 2326.2178])\n",
      "tensor([  10.1685, 5127.3340,  124.4367, 5690.6904])\n",
      "tensor([  75.5533, 5605.9756,  165.7648, 5987.7969])\n",
      "tensor([  42.2533, 1463.9065,  131.4741, 1739.8225])\n",
      "tensor([  7.1568, 272.9900, 153.7936, 837.4406])\n",
      "tensor([  10.7867, 4640.1401,  192.5833, 6156.2993])\n",
      "tensor([  20.0605, 2239.0833,   96.0516, 2580.1172])\n",
      "tensor([  12.1451, 5382.5308,  120.3970, 6901.8608])\n",
      "tensor([   7.4707, 6030.5356,   82.4209, 6909.4570])\n",
      "tensor([   9.5121, 2862.2312,  120.6243, 3061.1006])\n",
      "tensor([2.1540e+00, 3.9200e+03, 3.7090e+01, 4.1910e+03])\n",
      "tensor([3.5167e+00, 4.9912e+03, 6.0028e+01, 5.3114e+03])\n",
      "tensor([   2.5343, 1354.0375,   32.0098, 1536.5809])\n",
      "tensor([1.5881e+00, 2.9355e+03, 3.1542e+01, 3.1318e+03])\n",
      "tensor([  13.8651, 5769.6230,  148.0328, 6310.7217])\n",
      "tensor([   3.5087, 1379.1974,  260.0000, 1798.4127])\n",
      "tensor([  75.8669, 3105.0786,  162.6514, 3421.5020])\n",
      "tensor([   6.5304, 3090.1831,   82.0619, 4204.3213])\n",
      "tensor([ 157.0429, 3935.9773,  234.2363, 4307.0854])\n",
      "tensor([6.9031e-01, 3.0440e+03, 2.6000e+02, 3.4908e+03])\n",
      "tensor([  25.6717, 4993.0449,  260.0000, 5450.7036])\n",
      "tensor([  16.1845,  963.0293,  129.7275, 1526.2545])\n",
      "tensor([  12.1040, 6554.9082,  146.8903, 7122.4941])\n",
      "tensor([2.1889e+00, 6.4050e+03, 2.8651e+01, 6.6016e+03])\n",
      "tensor([ 152.1815, 3044.4644,  232.4841, 3396.6243])\n",
      "tensor([  11.6804, 3667.2581,  128.6299, 4594.1221])\n",
      "tensor([  25.5671, 5716.3350,  102.4563, 6066.1089])\n",
      "tensor([   7.6760, 2330.4470,  157.4004, 2871.2646])\n",
      "tensor([   3.3238, 2183.9717,   51.4228, 2471.6501])\n"
     ]
    },
    {
     "data": {
      "image/png": "[encoded data removed]",
      "text/plain": [
       "<Figure size 360x360 with 1 Axes>"
      ]
     },
     "metadata": {
      "needs_background": "light"
     },
     "output_type": "display_data"
    }
   ],
   "source": [
    "nms_prediction = apply_nms(prediction, iou_thresh=0.8)\n",
    "print('NMS APPLIED MODEL OUTPUT')\n",
    "plot_img_bbox(torch_to_pil(img), nms_prediction)"
   ]
  },
  {
   "cell_type": "markdown",
   "metadata": {},
   "source": [
    "Now lets take an image from the test set and try to predict on it"
   ]
  },
  {
   "cell_type": "code",
   "execution_count": 25,
   "metadata": {},
   "outputs": [
    {
     "name": "stdout",
     "output_type": "stream",
     "text": [
      "EXPECTED OUTPUT\n",
      "\n",
      "tensor([  62.0000, 3775.3442,  259.0000, 4151.7520])\n"
     ]
    },
    {
     "data": {
      "image/png": "[encoded data removed]",
      "text/plain": [
       "<Figure size 360x360 with 1 Axes>"
      ]
     },
     "metadata": {
      "needs_background": "light"
     },
     "output_type": "display_data"
    },
    {
     "name": "stdout",
     "output_type": "stream",
     "text": [
      "MODEL OUTPUT\n",
      "\n"
     ]
    },
    {
     "data": {
      "image/png": "[encoded data removed]",
      "text/plain": [
       "<Figure size 360x360 with 1 Axes>"
      ]
     },
     "metadata": {
      "needs_background": "light"
     },
     "output_type": "display_data"
    }
   ],
   "source": [
    "## !pwd\n",
    "test_dataset = AaImagesDataset(test_dir,  setwidth, setheight, transforms= get_transform(train=True))\n",
    "# pick one image from the test set\n",
    "img, target = test_dataset[0]\n",
    "# put the model in evaluation mode\n",
    "model.eval()\n",
    "with torch.no_grad():\n",
    "    prediction = model([img.to(device)])[0]\n",
    "    \n",
    "print('EXPECTED OUTPUT\\n')\n",
    "plot_img_bbox(torch_to_pil(img), target)\n",
    "print('MODEL OUTPUT\\n')\n",
    "nms_prediction = apply_nms(prediction, iou_thresh=0.01)\n",
    "\n",
    "plot_img_bbox(torch_to_pil(img), nms_prediction)"
   ]
  },
  {
   "cell_type": "markdown",
   "metadata": {},
   "source": [
    "The model did predict a void even though it was a small amount of image data and a simple short training.\n",
    "\n",
    "But fear not, this is just a base line model here are some ideas we can improve it - \n",
    "1. Use a better model. \n",
    "   We have the option of changing the backbone of our model which at present is `resnet 50` and the fine tune it.\n",
    "2. We can change the training configurations like size of the images, optimizers and learning rate schedule.\n",
    "3. We can add more augmentations.\n",
    "   We have used the Albumentations library which has an extensive library of data augmentation functions. Feel free to explore and try them out. "
   ]
  },
  {
   "cell_type": "markdown",
   "metadata": {},
   "source": [
    "# Fin.\n",
    "\n",
    "That's it for the notebook. \n"
   ]
  },
  {
   "cell_type": "code",
   "execution_count": null,
   "metadata": {},
   "outputs": [],
   "source": []
  }
 ],
 "metadata": {
  "kernelspec": {
   "display_name": "Python 3 (ipykernel)",
   "language": "python",
   "name": "python3"
  },
  "language_info": {
   "codemirror_mode": {
    "name": "ipython",
    "version": 3
   },
   "file_extension": ".py",
   "mimetype": "text/x-python",
   "name": "python",
   "nbconvert_exporter": "python",
   "pygments_lexer": "ipython3",
   "version": "3.8.12"
  }
 },
 "nbformat": 4,
 "nbformat_minor": 4
}
